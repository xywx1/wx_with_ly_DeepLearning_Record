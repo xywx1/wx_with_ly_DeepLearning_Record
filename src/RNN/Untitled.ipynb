{
 "cells": [
  {
   "cell_type": "code",
   "execution_count": 3,
   "id": "b3e3eb52-6ed6-4dd0-bcf4-4d81d380e0fb",
   "metadata": {},
   "outputs": [
    {
     "ename": "AttributeError",
     "evalue": "module 'd2l.torch' has no attribute 'load_data_time_machine'",
     "output_type": "error",
     "traceback": [
      "\u001b[1;31m---------------------------------------------------------------------------\u001b[0m",
      "\u001b[1;31mAttributeError\u001b[0m                            Traceback (most recent call last)",
      "Cell \u001b[1;32mIn[3], line 8\u001b[0m\n\u001b[0;32m      5\u001b[0m \u001b[38;5;28;01mfrom\u001b[39;00m \u001b[38;5;21;01md2l\u001b[39;00m \u001b[38;5;28;01mimport\u001b[39;00m torch \u001b[38;5;28;01mas\u001b[39;00m d2l\n\u001b[0;32m      7\u001b[0m batch_size, num_steps \u001b[38;5;241m=\u001b[39m \u001b[38;5;241m32\u001b[39m, \u001b[38;5;241m35\u001b[39m\n\u001b[1;32m----> 8\u001b[0m train_iter, vocab \u001b[38;5;241m=\u001b[39m d2l\u001b[38;5;241m.\u001b[39mload_data_time_machine(batch_size, num_steps)\n",
      "\u001b[1;31mAttributeError\u001b[0m: module 'd2l.torch' has no attribute 'load_data_time_machine'"
     ]
    }
   ],
   "source": [
    "%matplotlib inline\n",
    "import torch\n",
    "from torch import nn\n",
    "from torch.nn import functional as F\n",
    "from d2l import torch as d2l\n",
    "\n",
    "batch_size, num_steps = 32, 35\n",
    "train_iter, vocab = d2l.load_data_time_machine(batch_size, num_steps)"
   ]
  },
  {
   "cell_type": "code",
   "execution_count": 5,
   "id": "be920c1e-bf2f-4146-aabc-3ff7b66e83ae",
   "metadata": {},
   "outputs": [
    {
     "data": {
      "text/plain": [
       "['G:\\\\Anaconda\\\\envs\\\\you\\\\python311.zip',\n",
       " 'G:\\\\Anaconda\\\\envs\\\\you\\\\DLLs',\n",
       " 'G:\\\\Anaconda\\\\envs\\\\you\\\\Lib',\n",
       " 'G:\\\\Anaconda\\\\envs\\\\you',\n",
       " '',\n",
       " 'G:\\\\Anaconda\\\\envs\\\\you\\\\Lib\\\\site-packages',\n",
       " 'G:\\\\Anaconda\\\\envs\\\\you\\\\Lib\\\\site-packages\\\\win32',\n",
       " 'G:\\\\Anaconda\\\\envs\\\\you\\\\Lib\\\\site-packages\\\\win32\\\\lib',\n",
       " 'G:\\\\Anaconda\\\\envs\\\\you\\\\Lib\\\\site-packages\\\\Pythonwin',\n",
       " 'G:\\\\Anaconda\\\\envs\\\\you\\\\Lib\\\\site-packages\\\\setuptools\\\\_vendor',\n",
       " 'F:\\\\code\\\\AI\\\\wx_with_ly_DeepLearning_Record']"
      ]
     },
     "execution_count": 5,
     "metadata": {},
     "output_type": "execute_result"
    }
   ],
   "source": [
    "import sys\n",
    "sys.path\n"
   ]
  },
  {
   "cell_type": "code",
   "execution_count": 10,
   "id": "5712ad9a-e5e1-48c0-ae73-781512697408",
   "metadata": {},
   "outputs": [
    {
     "ename": "AttributeError",
     "evalue": "module 'torch' has no attribute 'load_data_time_machine'",
     "output_type": "error",
     "traceback": [
      "\u001b[1;31m---------------------------------------------------------------------------\u001b[0m",
      "\u001b[1;31mAttributeError\u001b[0m                            Traceback (most recent call last)",
      "Cell \u001b[1;32mIn[10], line 1\u001b[0m\n\u001b[1;32m----> 1\u001b[0m \u001b[38;5;28mdir\u001b[39m(d2l\u001b[38;5;241m.\u001b[39mtorch\u001b[38;5;241m.\u001b[39mload_data_time_machine)\n",
      "File \u001b[1;32mG:\\Anaconda\\envs\\you\\Lib\\site-packages\\torch\\__init__.py:2216\u001b[0m, in \u001b[0;36m__getattr__\u001b[1;34m(name)\u001b[0m\n\u001b[0;32m   2213\u001b[0m     \u001b[38;5;28;01mimport\u001b[39;00m \u001b[38;5;21;01mimportlib\u001b[39;00m\n\u001b[0;32m   2214\u001b[0m     \u001b[38;5;28;01mreturn\u001b[39;00m importlib\u001b[38;5;241m.\u001b[39mimport_module(\u001b[38;5;124mf\u001b[39m\u001b[38;5;124m\"\u001b[39m\u001b[38;5;124m.\u001b[39m\u001b[38;5;132;01m{\u001b[39;00mname\u001b[38;5;132;01m}\u001b[39;00m\u001b[38;5;124m\"\u001b[39m, \u001b[38;5;18m__name__\u001b[39m)\n\u001b[1;32m-> 2216\u001b[0m \u001b[38;5;28;01mraise\u001b[39;00m \u001b[38;5;167;01mAttributeError\u001b[39;00m(\u001b[38;5;124mf\u001b[39m\u001b[38;5;124m\"\u001b[39m\u001b[38;5;124mmodule \u001b[39m\u001b[38;5;124m'\u001b[39m\u001b[38;5;132;01m{\u001b[39;00m\u001b[38;5;18m__name__\u001b[39m\u001b[38;5;132;01m}\u001b[39;00m\u001b[38;5;124m'\u001b[39m\u001b[38;5;124m has no attribute \u001b[39m\u001b[38;5;124m'\u001b[39m\u001b[38;5;132;01m{\u001b[39;00mname\u001b[38;5;132;01m}\u001b[39;00m\u001b[38;5;124m'\u001b[39m\u001b[38;5;124m\"\u001b[39m)\n",
      "\u001b[1;31mAttributeError\u001b[0m: module 'torch' has no attribute 'load_data_time_machine'"
     ]
    }
   ],
   "source": [
    "dir(d2l.torch.load_data_time_machine)"
   ]
  },
  {
   "cell_type": "code",
   "execution_count": null,
   "id": "612eb4a7-2742-452f-886d-2d417288f95a",
   "metadata": {},
   "outputs": [],
   "source": []
  }
 ],
 "metadata": {
  "kernelspec": {
   "display_name": "you",
   "language": "python",
   "name": "you"
  },
  "language_info": {
   "codemirror_mode": {
    "name": "ipython",
    "version": 3
   },
   "file_extension": ".py",
   "mimetype": "text/x-python",
   "name": "python",
   "nbconvert_exporter": "python",
   "pygments_lexer": "ipython3",
   "version": "3.11.9"
  }
 },
 "nbformat": 4,
 "nbformat_minor": 5
}

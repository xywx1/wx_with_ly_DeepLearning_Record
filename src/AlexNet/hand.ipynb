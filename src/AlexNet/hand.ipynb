{
 "cells": [
  {
   "cell_type": "code",
   "execution_count": 1,
   "id": "f6a7d748-14e2-4caf-86aa-d1d321e1b317",
   "metadata": {},
   "outputs": [
    {
     "ename": "ModuleNotFoundError",
     "evalue": "No module named 'src.utils'",
     "output_type": "error",
     "traceback": [
      "\u001b[1;31m---------------------------------------------------------------------------\u001b[0m",
      "\u001b[1;31mModuleNotFoundError\u001b[0m                       Traceback (most recent call last)",
      "Cell \u001b[1;32mIn[1], line 4\u001b[0m\n\u001b[0;32m      2\u001b[0m \u001b[38;5;28;01mfrom\u001b[39;00m \u001b[38;5;21;01mtorchvision\u001b[39;00m \u001b[38;5;28;01mimport\u001b[39;00m transforms\n\u001b[0;32m      3\u001b[0m \u001b[38;5;28;01mfrom\u001b[39;00m \u001b[38;5;21;01mtorch\u001b[39;00m\u001b[38;5;21;01m.\u001b[39;00m\u001b[38;5;21;01mutils\u001b[39;00m\u001b[38;5;21;01m.\u001b[39;00m\u001b[38;5;21;01mdata\u001b[39;00m \u001b[38;5;28;01mimport\u001b[39;00m DataLoader, random_split\n\u001b[1;32m----> 4\u001b[0m \u001b[38;5;28;01mfrom\u001b[39;00m \u001b[38;5;21;01msrc\u001b[39;00m\u001b[38;5;21;01m.\u001b[39;00m\u001b[38;5;21;01mutils\u001b[39;00m\u001b[38;5;21;01m.\u001b[39;00m\u001b[38;5;21;01mbuildDataset\u001b[39;00m \u001b[38;5;28;01mimport\u001b[39;00m MyDataset\n\u001b[0;32m      5\u001b[0m \u001b[38;5;28;01mfrom\u001b[39;00m \u001b[38;5;21;01msrc\u001b[39;00m\u001b[38;5;21;01m.\u001b[39;00m\u001b[38;5;21;01mutils\u001b[39;00m\u001b[38;5;21;01m.\u001b[39;00m\u001b[38;5;21;01mtrain\u001b[39;00m \u001b[38;5;28;01mimport\u001b[39;00m train\n",
      "\u001b[1;31mModuleNotFoundError\u001b[0m: No module named 'src.utils'"
     ]
    }
   ],
   "source": [
    "from torch import nn\n",
    "from torchvision import transforms\n",
    "from torch.utils.data import DataLoader, random_split\n",
    "from src.utils.buildDataset import MyDataset\n",
    "from src.utils.train import train\n"
   ]
  },
  {
   "cell_type": "code",
   "execution_count": 7,
   "id": "336c96ab-3d5a-40f6-861b-b3945a69bd89",
   "metadata": {},
   "outputs": [],
   "source": [
    "transform = transforms.Compose([\n",
    "    transforms.Resize(224),\n",
    "    transforms.CenterCrop(224),\n",
    "    transforms.ToTensor(),\n",
    "])\n",
    "\n",
    "net = nn.Sequential(\n",
    "    nn.Conv2d(3, 96, kernel_size=11, stride=4, padding=1),\n",
    "    nn.ReLU(),\n",
    "    nn.MaxPool2d(kernel_size=3, stride=2),\n",
    "    nn.Conv2d(96, 256, kernel_size=5, padding=2),\n",
    "    nn.ReLU(),\n",
    "    nn.MaxPool2d(kernel_size=3, stride=2),\n",
    "    nn.Conv2d(256, 384, kernel_size=3, padding=1),\n",
    "    nn.ReLU(),\n",
    "    nn.Conv2d(384, 384, kernel_size=3, padding=1),\n",
    "    nn.ReLU(),\n",
    "    nn.Conv2d(384, 256, kernel_size=3, padding=1),\n",
    "    nn.ReLU(),\n",
    "    nn.MaxPool2d(kernel_size=3, stride=2),\n",
    "    nn.Flatten(),\n",
    "    nn.Linear(6400, 4096),\n",
    "    nn.ReLU(),\n",
    "    nn.Dropout(p=0.5),\n",
    "    nn.Linear(4096, 4096),\n",
    "    nn.ReLU(),\n",
    "    nn.Dropout(p=0.5),\n",
    "    nn.Linear(4096, 10)\n",
    "    )"
   ]
  },
  {
   "cell_type": "code",
   "execution_count": 10,
   "id": "c48b0db6-a95f-47d0-9ab1-ed865d66409b",
   "metadata": {},
   "outputs": [],
   "source": [
    "    img_path = r'F:\\code\\AI\\wx_with_ly_DeepLearning_Record\\dataset\\flower_photos'\n",
    "    data_set = MyDataset(img_path, transform)\n",
    "    train_dataset, test_dataset = random_split(data_set, [0.8, 0.2])\n",
    "    train_iter = DataLoader(dataset=train_dataset, batch_size=32, shuffle=True)\n",
    "    test_iter = DataLoader(dataset=test_dataset, batch_size=32, shuffle=True)"
   ]
  },
  {
   "cell_type": "code",
   "execution_count": null,
   "id": "23564c82-2b69-438b-9fe6-a6a8da95e7a6",
   "metadata": {},
   "outputs": [
    {
     "name": "stdout",
     "output_type": "stream",
     "text": [
      "training on cuda\n",
      "epoch 1, train loss 1.6886514839918718, train acc 0.24216621253405995, test acc 0.2329700272479564\n",
      "epoch 2, train loss 1.552512297163839, train acc 0.3034741144414169, test acc 0.3678474114441417\n",
      "epoch 3, train loss 1.4373656809329987, train acc 0.3967983651226158, test acc 0.42779291553133514\n",
      "epoch 4, train loss 1.4552895906178847, train acc 0.37942779291553136, test acc 0.4196185286103542\n",
      "epoch 5, train loss 1.3291070603806039, train acc 0.4543596730245232, test acc 0.5136239782016349\n",
      "epoch 6, train loss 1.1877239249322726, train acc 0.510558583106267, test acc 0.5286103542234333\n",
      "epoch 7, train loss 1.1153306410364483, train acc 0.5391689373297003, test acc 0.5299727520435967\n",
      "epoch 8, train loss 1.0527244210243225, train acc 0.5701634877384196, test acc 0.614441416893733\n",
      "epoch 9, train loss 1.0345730250296385, train acc 0.5800408719346049, test acc 0.5653950953678474\n",
      "epoch 10, train loss 0.999312294566113, train acc 0.6069482288828338, test acc 0.5599455040871935\n",
      "epoch 11, train loss 0.949769566240518, train acc 0.6215940054495913, test acc 0.5817438692098093\n",
      "epoch 12, train loss 0.9215190935394039, train acc 0.6304495912806539, test acc 0.611716621253406\n",
      "epoch 13, train loss 0.8893726422734882, train acc 0.6454359673024523, test acc 0.6198910081743869\n",
      "epoch 14, train loss 0.8972551563511724, train acc 0.6563351498637602, test acc 0.6307901907356949\n",
      "epoch 15, train loss 0.823464718201886, train acc 0.6897138964577657, test acc 0.6689373297002725\n",
      "epoch 16, train loss 0.8030415731279746, train acc 0.6924386920980926, test acc 0.5912806539509536\n"
     ]
    }
   ],
   "source": [
    "    train(net, train_iter, test_iter, num_epochs=30, lr=3e-2)\n"
   ]
  }
 ],
 "metadata": {
  "kernelspec": {
   "display_name": "Python 3 (ipykernel)",
   "language": "python",
   "name": "python3"
  },
  "language_info": {
   "codemirror_mode": {
    "name": "ipython",
    "version": 3
   },
   "file_extension": ".py",
   "mimetype": "text/x-python",
   "name": "python",
   "nbconvert_exporter": "python",
   "pygments_lexer": "ipython3",
   "version": "3.11.9"
  }
 },
 "nbformat": 4,
 "nbformat_minor": 5
}

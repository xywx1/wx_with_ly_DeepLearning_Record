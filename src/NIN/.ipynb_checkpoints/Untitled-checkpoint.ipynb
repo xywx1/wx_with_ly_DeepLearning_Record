{
 "cells": [
  {
   "cell_type": "code",
   "execution_count": null,
   "id": "9434ad59-5e27-49c3-a6ee-d2d529f23b9f",
   "metadata": {},
   "outputs": [],
   "source": [
    "import torch\n",
    "from torch import nn\n",
    "from d2l import torch as d2l\n",
    "\n",
    "\n",
    "def nin_block(in_channels, out_channels, kernel_size, strides, padding):\n",
    "    return nn.Sequential(\n",
    "        nn.Conv2d(in_channels, out_channels, kernel_size, strides, padding),\n",
    "        nn.ReLU(),\n",
    "        nn.Conv2d(out_channels, out_channels, kernel_size=1), nn.ReLU(),\n",
    "        nn.Conv2d(out_channels, out_channels, kernel_size=1), nn.ReLU())\n",
    "\n",
    "# 采用卷积 替代 全连接层，好处是参数了减少了很多\n",
    "# 最后加入一恶搞全局平均池化用来替代全连接层"
   ]
  }
 ],
 "metadata": {
  "kernelspec": {
   "display_name": "you",
   "language": "python",
   "name": "you"
  },
  "language_info": {
   "codemirror_mode": {
    "name": "ipython",
    "version": 3
   },
   "file_extension": ".py",
   "mimetype": "text/x-python",
   "name": "python",
   "nbconvert_exporter": "python",
   "pygments_lexer": "ipython3",
   "version": "3.11.9"
  }
 },
 "nbformat": 4,
 "nbformat_minor": 5
}

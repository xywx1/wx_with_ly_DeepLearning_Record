{
 "cells": [
  {
   "cell_type": "code",
   "execution_count": 7,
   "id": "4913669b-4c71-4f3e-9805-73e4842c02bb",
   "metadata": {},
   "outputs": [
    {
     "ename": "ImportError",
     "evalue": "attempted relative import with no known parent package",
     "output_type": "error",
     "traceback": [
      "\u001b[1;31m---------------------------------------------------------------------------\u001b[0m",
      "\u001b[1;31mImportError\u001b[0m                               Traceback (most recent call last)",
      "Cell \u001b[1;32mIn[7], line 1\u001b[0m\n\u001b[1;32m----> 1\u001b[0m \u001b[38;5;28;01mfrom\u001b[39;00m \u001b[38;5;21;01m.\u001b[39;00m\u001b[38;5;21;01m.\u001b[39;00m\u001b[38;5;21;01mutils\u001b[39;00m\u001b[38;5;21;01m.\u001b[39;00m\u001b[38;5;21;01mtrain\u001b[39;00m \u001b[38;5;28;01mimport\u001b[39;00m train\n",
      "\u001b[1;31mImportError\u001b[0m: attempted relative import with no known parent package"
     ]
    }
   ],
   "source": [
    "from ..utils.train import train"
   ]
  },
  {
   "cell_type": "code",
   "execution_count": 3,
   "id": "9246a2ca-b7b7-4ec3-acff-ca10da36c8ae",
   "metadata": {},
   "outputs": [
    {
     "data": {
      "text/plain": [
       "['G:\\\\Anaconda\\\\envs\\\\you\\\\python311.zip',\n",
       " 'G:\\\\Anaconda\\\\envs\\\\you\\\\DLLs',\n",
       " 'G:\\\\Anaconda\\\\envs\\\\you\\\\Lib',\n",
       " 'G:\\\\Anaconda\\\\envs\\\\you',\n",
       " '',\n",
       " 'G:\\\\Anaconda\\\\envs\\\\you\\\\Lib\\\\site-packages',\n",
       " 'G:\\\\Anaconda\\\\envs\\\\you\\\\Lib\\\\site-packages\\\\win32',\n",
       " 'G:\\\\Anaconda\\\\envs\\\\you\\\\Lib\\\\site-packages\\\\win32\\\\lib',\n",
       " 'G:\\\\Anaconda\\\\envs\\\\you\\\\Lib\\\\site-packages\\\\Pythonwin',\n",
       " 'G:\\\\Anaconda\\\\envs\\\\you\\\\Lib\\\\site-packages\\\\setuptools\\\\_vendor']"
      ]
     },
     "execution_count": 3,
     "metadata": {},
     "output_type": "execute_result"
    }
   ],
   "source": [
    "import sys\n",
    "sys.path\n"
   ]
  },
  {
   "cell_type": "code",
   "execution_count": 4,
   "id": "ca6041e8-b36d-4cd0-968b-ce77bee0c403",
   "metadata": {},
   "outputs": [
    {
     "data": {
      "text/plain": [
       "'F:\\\\code\\\\AI\\\\wx_with_ly_DeepLearning_Record\\\\src'"
      ]
     },
     "execution_count": 4,
     "metadata": {},
     "output_type": "execute_result"
    }
   ],
   "source": [
    "import os\n",
    "os.getcwd()\n"
   ]
  }
 ],
 "metadata": {
  "kernelspec": {
   "display_name": "you",
   "language": "python",
   "name": "you"
  },
  "language_info": {
   "codemirror_mode": {
    "name": "ipython",
    "version": 3
   },
   "file_extension": ".py",
   "mimetype": "text/x-python",
   "name": "python",
   "nbconvert_exporter": "python",
   "pygments_lexer": "ipython3",
   "version": "3.11.9"
  }
 },
 "nbformat": 4,
 "nbformat_minor": 5
}
